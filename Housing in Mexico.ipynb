{
 "cells": [
  {
   "metadata": {
    "jupyter": {
     "is_executing": true
    }
   },
   "cell_type": "code",
   "source": "!pip install matplotlib pandas plotly",
   "id": "64f0c270b9521cc2",
   "outputs": [],
   "execution_count": null
  },
  {
   "cell_type": "code",
   "execution_count": null,
   "id": "initial_id",
   "metadata": {
    "collapsed": true
   },
   "outputs": [],
   "source": [
    "# Import Matplotlib, pandas, and plotly\n",
    "import matplotlib.pyplot as plt\n",
    "import pandas as pd\n",
    "import plotly.express as px"
   ]
  },
  {
   "metadata": {},
   "cell_type": "code",
   "outputs": [],
   "execution_count": null,
   "source": [
    "df1 = pd.read_csv(\"brazil-real-estate-1.csv\")\n",
    "df1.head()"
   ],
   "id": "831587bda2f77064"
  },
  {
   "metadata": {},
   "cell_type": "code",
   "outputs": [],
   "execution_count": null,
   "source": "df1.info()",
   "id": "9e66cc865081e809"
  },
  {
   "metadata": {},
   "cell_type": "code",
   "outputs": [],
   "execution_count": null,
   "source": "df1.dropna(inplace=True)",
   "id": "aa3c19883e43576e"
  },
  {
   "metadata": {},
   "cell_type": "code",
   "outputs": [],
   "execution_count": null,
   "source": [
    "df1[['lat', 'lon']] = df1['lat-lon'].str.split(\",\", expand=True).astype(\"float\")\n",
    "\n",
    "df1.head()"
   ],
   "id": "775d68de9b0d1f96"
  },
  {
   "metadata": {},
   "cell_type": "code",
   "outputs": [],
   "execution_count": null,
   "source": [
    "df1[\"state\"] = df1[\"place_with_parent_names\"].str.split(\"|\", expand=True)[2]\n",
    "\n",
    "df1.head()"
   ],
   "id": "cfda5376f34912dd"
  },
  {
   "metadata": {},
   "cell_type": "code",
   "outputs": [],
   "execution_count": null,
   "source": [
    "df1[\"price_usd\"] = df1[\"price_usd\"].str.replace(\"$\",\"\", regex=False).str.replace(\",\",\"\", regex=False).astype(\"float\")\n",
    "\n",
    "df1.head()\n",
    "df1.info()"
   ],
   "id": "ab87ab54d98ada0"
  },
  {
   "metadata": {},
   "cell_type": "code",
   "outputs": [],
   "execution_count": null,
   "source": "df1.drop(columns = ['lat-lon', 'place_with_parent_names'], inplace=True)\n",
   "id": "72e668bd0186db69"
  },
  {
   "metadata": {},
   "cell_type": "code",
   "outputs": [],
   "execution_count": null,
   "source": [
    "df2 = pd.read_csv(\"brazil-real-estate-2.csv\")\n",
    "\n",
    "df2.head()"
   ],
   "id": "ec9f05a041590eb7"
  },
  {
   "metadata": {},
   "cell_type": "code",
   "outputs": [],
   "execution_count": null,
   "source": "df2.info()",
   "id": "8441dd49756dca98"
  },
  {
   "metadata": {},
   "cell_type": "code",
   "outputs": [],
   "execution_count": null,
   "source": [
    "df2[\"price_usd\"] = (df2[\"price_brl\"]/3.19).round(2)\n",
    "\n",
    "df2.head()"
   ],
   "id": "e172094ba519b878"
  },
  {
   "metadata": {},
   "cell_type": "code",
   "outputs": [],
   "execution_count": null,
   "source": [
    "df2.dropna(inplace=True)\n",
    "\n",
    "df2.drop(columns=[\"price_brl\"], inplace=True)"
   ],
   "id": "fc38abb7db37241"
  },
  {
   "metadata": {},
   "cell_type": "code",
   "outputs": [],
   "execution_count": null,
   "source": [
    "df = pd.concat([df1,df2], axis=0)\n",
    "print(\"df shape:\", df.shape)"
   ],
   "id": "823e03ba44bb0596"
  },
  {
   "metadata": {},
   "cell_type": "code",
   "outputs": [],
   "execution_count": null,
   "source": [
    "fig = px.scatter_mapbox(\n",
    "    df,\n",
    "    lat='lat',\n",
    "    lon='lon',\n",
    "    center={\"lat\": -14.2, \"lon\": -51.9},  # Map will be centered on Brazil\n",
    "    width=600,\n",
    "    height=600,\n",
    "    hover_data=[\"price_usd\"],  # Display price when hovering mouse over house\n",
    ")\n",
    "\n",
    "fig.update_layout(mapbox_style=\"open-street-map\")\n",
    "\n",
    "fig.show()"
   ],
   "id": "fcb691ffeead3ed5"
  },
  {
   "metadata": {},
   "cell_type": "code",
   "outputs": [],
   "execution_count": null,
   "source": [
    "summary_stats = df[[\"area_m2\", \"price_usd\"]].describe()\n",
    "summary_stats"
   ],
   "id": "e0d2749f702a379"
  },
  {
   "metadata": {
    "jupyter": {
     "is_executing": true
    }
   },
   "cell_type": "code",
   "source": [
    "# Build histogram\n",
    "plt.hist(df[\"price_usd\"]);\n",
    "\n",
    "# Label axes\n",
    "plt.xlabel(\"Price [USD]\")\n",
    "plt.ylabel(\"Frequency\")\n",
    "\n",
    "# Add title\n",
    "plt.title(\"Distribution of Home Prices\");\n",
    "\n",
    "# Don't change the code below 👇\n",
    "plt.savefig(\"images/1-5-12.png\", dpi=150)\n"
   ],
   "id": "f5ec59f8eba4f692",
   "outputs": [],
   "execution_count": null
  },
  {
   "metadata": {},
   "cell_type": "code",
   "outputs": [],
   "execution_count": null,
   "source": [
    "# Build box plot\n",
    "plt.boxplot(df[\"area_m2\"], vert=False);\n",
    "\n",
    "\n",
    "# Label x-axis\n",
    "plt.xlabel(\"Area [sq meters]\")\n",
    "\n",
    "# Add title\n",
    "plt.title(\"Distribution of Home Sizes\");\n",
    "\n",
    "# Don't change the code below 👇\n",
    "plt.savefig(\"images/1-5-13.png\", dpi=150)\n"
   ],
   "id": "afea622a6e1340b1"
  },
  {
   "metadata": {},
   "cell_type": "code",
   "outputs": [],
   "execution_count": null,
   "source": [
    "mean_price_by_region = df.groupby('region')['price_usd'].mean().sort_values(ascending=True)\n",
    "mean_price_by_region"
   ],
   "id": "cdd37176a4efcbc4"
  },
  {
   "metadata": {},
   "cell_type": "code",
   "outputs": [],
   "execution_count": null,
   "source": [
    "# Build bar chart, label axes, add title\n",
    "mean_price_by_region.plot(kind=\"bar\",\n",
    "                         xlabel=\"Region\",\n",
    "                         ylabel=\"Mean Price [USD]\",\n",
    "                         title=\"Mean Home Price by Region\");\n",
    "\n",
    "# Don't change the code below 👇\n",
    "plt.savefig(\"images/1-5-15.png\", dpi=150)\n"
   ],
   "id": "50d21bfaecbd30a6"
  },
  {
   "metadata": {},
   "cell_type": "code",
   "outputs": [],
   "execution_count": null,
   "source": [
    "df_south = df[df[\"region\"] == \"South\"]\n",
    "df_south.head()"
   ],
   "id": "4db3bf70b0c9bba2"
  },
  {
   "metadata": {},
   "cell_type": "code",
   "outputs": [],
   "execution_count": null,
   "source": [
    "homes_by_state = df_south[\"state\"].value_counts()\n",
    "homes_by_state"
   ],
   "id": "c04bd0f1268a63e7"
  },
  {
   "metadata": {},
   "cell_type": "code",
   "outputs": [],
   "execution_count": null,
   "source": [
    "# Subset data\n",
    "df_south_rgs = df[df[\"state\"] == \"Rio Grande do Sul\"]\n",
    "\n",
    "# Build scatter plot\n",
    "plt.scatter(x=df_south_rgs[\"area_m2\"],\n",
    "           y=df_south_rgs[\"price_usd\"]);\n",
    "\n",
    "# Label axes\n",
    "plt.xlabel(\"Area [sq meters]\")\n",
    "plt.ylabel(\"Price [USD]\")\n",
    "\n",
    "# Add title\n",
    "plt.title(\"Rio Grande do Sul: Price vs. Area\")\n",
    "\n",
    "# Don't change the code below 👇\n",
    "plt.savefig(\"images/1-5-18.png\", dpi=150)\n"
   ],
   "id": "19d44f8a7fd5d760"
  },
  {
   "metadata": {},
   "cell_type": "code",
   "outputs": [],
   "execution_count": null,
   "source": [
    "state_group = df_south.groupby('state')\n",
    "\n",
    "south_states_corr = {}\n",
    "\n",
    "for state, group in state_group:\n",
    "    correlation = group['price_usd'].corr(group['area_m2'])\n",
    "    south_states_corr[state] = correlation\n",
    "\n",
    "south_states_corr"
   ],
   "id": "480d8d55a60541a6"
  }
 ],
 "metadata": {
  "kernelspec": {
   "display_name": "Python 3",
   "language": "python",
   "name": "python3"
  },
  "language_info": {
   "codemirror_mode": {
    "name": "ipython",
    "version": 2
   },
   "file_extension": ".py",
   "mimetype": "text/x-python",
   "name": "python",
   "nbconvert_exporter": "python",
   "pygments_lexer": "ipython2",
   "version": "2.7.6"
  }
 },
 "nbformat": 4,
 "nbformat_minor": 5
}
